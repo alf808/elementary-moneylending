{
 "cells": [
  {
   "cell_type": "markdown",
   "metadata": {},
   "source": [
    "# Analyzing and Visualizing a Loan Dataset\n",
    "## by Alf Maglalang\n",
    "\n",
    "## Preliminary Wrangling\n",
    "\n",
    "> This loan data is from a lending company called **Prosper**. It was last updated 3/11/2014. It has 113937 records with 81 features, namely\n",
    "\n",
    "> `ListingKey`, `ListingNumber`, `ListingCreationDate`, `CreditGrade`, `Term`, `LoanStatus`, `ClosedDate`, `BorrowerAPR`, `BorrowerRate`, `LenderYield`, `EstimatedEffectiveYield`, `EstimatedLoss`, `EstimatedReturn`, `ProsperRating (numeric)`, `ProsperRating (Alpha)`, `ProsperScore`, `ListingCategory (numeric)`, `BorrowerState`, `Occupation`, `EmploymentStatus`, `EmploymentStatusDuration`, `IsBorrowerHomeowner`, `CurrentlyInGroup`, `GroupKey`, `DateCreditPulled`, `CreditScoreRangeLower`, `CreditScoreRangeUpper`, `FirstRecordedCreditLine`, `CurrentCreditLines`, `OpenCreditLines`, `TotalCreditLinespast7years`, `OpenRevolvingAccounts`, `OpenRevolvingMonthlyPayment`, `InquiriesLast6Months`, `TotalInquiries`, `CurrentDelinquencies`, `AmountDelinquent`, `DelinquenciesLast7Years`, `PublicRecordsLast10Years`, `PublicRecordsLast12Months`, `RevolvingCreditBalance`, `BankcardUtilization`, `AvailableBankcardCredit`, `TotalTrades`, `TradesNeverDelinquent (percentage)`, `TradesOpenedLast6Months`, `DebtToIncomeRatio`, `IncomeRange`, `IncomeVerifiable`, `StatedMonthlyIncome`, `LoanKey`, `TotalProsperLoans`, `TotalProsperPaymentsBilled`, `OnTimeProsperPayments`, `ProsperPaymentsLessThanOneMonthLate`, `ProsperPaymentsOneMonthPlusLate`, `ProsperPrincipalBorrowed`, `ProsperPrincipalOutstanding`, `ScorexChangeAtTimeOfListing`, `LoanCurrentDaysDelinquent`, `LoanFirstDefaultedCycleNumber`, `LoanMonthsSinceOrigination`, `LoanNumber`, `LoanOriginalAmount`, `LoanOriginationDate`, `LoanOriginationQuarter`, `MemberKey`, `MonthlyLoanPayment`, `LP_CustomerPayments`, `LP_CustomerPrincipalPayments`, `LP_InterestandFees`, `LP_ServiceFees`, `LP_CollectionFees`, `LP_GrossPrincipalLoss`, `LP_NetPrincipalLoss`, `LP_NonPrincipalRecoverypayments`, `PercentFunded`, `Recommendations`, `InvestmentFromFriendsCount`, `InvestmentFromFriendsAmount`, `Investors`\n",
    "\n",
    "> Please click on the following link to see the definitions of the data's features. [Prosper Data Dictionary to Explain Dataset's Variables](https://www.google.com/url?q=https://docs.google.com/spreadsheet/ccc?key%3D0AllIqIyvWZdadDd5NTlqZ1pBMHlsUjdrOTZHaVBuSlE%26usp%3Dsharing&sa=D&ust=1554486256024000)"
   ]
  },
  {
   "cell_type": "code",
   "execution_count": null,
   "metadata": {},
   "outputs": [],
   "source": [
    "# import all packages and set plots to be embedded inline\n",
    "import numpy as np\n",
    "import pandas as pd\n",
    "import matplotlib.pyplot as plt\n",
    "import seaborn as sb\n",
    "\n",
    "%matplotlib inline"
   ]
  },
  {
   "cell_type": "markdown",
   "metadata": {},
   "source": [
    "> Load in your dataset and describe its properties through the questions below.\n",
    "Try and motivate your exploration goals through this section."
   ]
  },
  {
   "cell_type": "code",
   "execution_count": null,
   "metadata": {},
   "outputs": [],
   "source": [
    "# pld will be short for prosperLoanData\n",
    "pld = pd.read_csv('prosperLoanData.csv')"
   ]
  },
  {
   "cell_type": "code",
   "execution_count": null,
   "metadata": {},
   "outputs": [],
   "source": [
    "# show all of the columns\n",
    "pd.options.display.max_columns = None\n",
    "pld.head()"
   ]
  },
  {
   "cell_type": "code",
   "execution_count": null,
   "metadata": {},
   "outputs": [],
   "source": [
    "pld.info()"
   ]
  },
  {
   "cell_type": "code",
   "execution_count": null,
   "metadata": {},
   "outputs": [],
   "source": [
    "pld.shape"
   ]
  },
  {
   "cell_type": "code",
   "execution_count": null,
   "metadata": {},
   "outputs": [],
   "source": [
    "pld.describe()"
   ]
  },
  {
   "cell_type": "code",
   "execution_count": null,
   "metadata": {},
   "outputs": [],
   "source": [
    "features_corr = ['Term', 'LoanStatus', 'BorrowerRate', 'BorrowerAPR', 'LenderYield', 'ProsperRating (numeric)', 'ProsperScore', 'ListingCategory (numeric)', 'BorrowerState', 'EmploymentStatus', 'EmploymentStatusDuration', 'IsBorrowerHomeowner', 'CurrentlyInGroup', 'CreditScoreRangeLower', 'CreditScoreRangeUpper', 'FirstRecordedCreditLine', 'CurrentCreditLines', 'InquiriesLast6Months', 'CurrentDelinquencies', 'AmountDelinquent', 'DelinquenciesLast7Years', 'PublicRecordsLast12Months', 'RevolvingCreditBalance', 'AvailableBankcardCredit', 'DebtToIncomeRatio', 'IncomeRange', 'StatedMonthlyIncome', 'LoanOriginalAmount']\n",
    "print(len(features_corr), list(features_corr))"
   ]
  },
  {
   "cell_type": "code",
   "execution_count": null,
   "metadata": {},
   "outputs": [],
   "source": [
    "#features_corr = ['Term', 'LoanStatus', 'BorrowerRate', 'LenderYield', 'ProsperRating (numeric)', 'ProsperScore', 'ListingCategory (numeric)', 'BorrowerState', 'EmploymentStatus', 'EmploymentStatusDuration', 'IsBorrowerHomeowner', 'CreditScoreRangeUpper', 'FirstRecordedCreditLine', 'CurrentCreditLines', 'OpenCreditLines', 'TotalCreditLinespast7years', 'OpenRevolvingAccounts', 'OpenRevolvingMonthlyPayment', 'InquiriesLast6Months', 'TotalInquiries', 'CurrentDelinquencies', 'AmountDelinquent', 'DelinquenciesLast7Years', 'PublicRecordsLast12Months', 'RevolvingCreditBalance', 'AvailableBankcardCredit', 'DebtToIncomeRatio', 'IncomeRange', 'IncomeVerifiable', 'StatedMonthlyIncome', 'LoanOriginalAmount', 'MonthlyLoanPayment']\n",
    "temp2_df = pld[features_corr]\n",
    "corr_big = temp2_df.corr()\n",
    "corr_big"
   ]
  },
  {
   "cell_type": "code",
   "execution_count": null,
   "metadata": {},
   "outputs": [],
   "source": [
    "#from seaborn import heatmap\n",
    "fig, ax = plt.subplots(figsize=(16,16))\n",
    "ax = sb.heatmap(corr_big, fmt='.2f', annot=True, ax=ax, cmap='RdBu_r')\n",
    "fig.savefig('corr.png', dpi=300, bbox_inches=None);"
   ]
  },
  {
   "cell_type": "code",
   "execution_count": null,
   "metadata": {},
   "outputs": [],
   "source": [
    "# drop redundant features\n",
    "# BorrowerAPR is redundant. BorrowerAPR and BorrowerRate are very closely related.\n",
    "# Other features against them are also very closely related.\n",
    "# CreditScoreRangeLower is redundant. It and CreditScoreRangeUpper are related\n",
    "# other features against them are exactly similarly related\n",
    "# CurrentlyInGroup since it looks like it has no bearing on BorrowerRate and ProsperRating\n",
    "pld.Occupation.value_counts()"
   ]
  },
  {
   "cell_type": "code",
   "execution_count": null,
   "metadata": {},
   "outputs": [],
   "source": [
    "df = pld.copy()"
   ]
  },
  {
   "cell_type": "code",
   "execution_count": null,
   "metadata": {},
   "outputs": [],
   "source": [
    "sb.regplot(x='BorrowerRate', y='CurrentlyInGroup', data=df.sample(frac=.25), logistic=True, y_jitter=.03)"
   ]
  },
  {
   "cell_type": "code",
   "execution_count": null,
   "metadata": {},
   "outputs": [],
   "source": [
    "sb.regplot(x='ProsperRating (numeric)', y='CurrentlyInGroup', data=df.sample(frac=.25), logistic=True, y_jitter=.03)"
   ]
  },
  {
   "cell_type": "code",
   "execution_count": null,
   "metadata": {},
   "outputs": [],
   "source": [
    "pld.EmploymentStatus.value_counts()"
   ]
  },
  {
   "cell_type": "code",
   "execution_count": null,
   "metadata": {},
   "outputs": [],
   "source": [
    "from datetime import datetime\n",
    "df['ListingCreationDate'] = df.ListingCreationDate.astype('datetime64[ns]')\n",
    "df['DateCreditPulled'] = df.DateCreditPulled.astype('datetime64[ns]')"
   ]
  },
  {
   "cell_type": "code",
   "execution_count": null,
   "metadata": {},
   "outputs": [],
   "source": [
    "#Column_A = datetime.strptime(df['ListingCreationDate'], '%m %d %y').date()\n",
    "#Column_B = datetime.strptime(df['DateCreditPulled'], '%m %d %y').date()\n",
    "\n",
    "def trunc_datetime(someDate):\n",
    "    return someDate.replace(hour=0, minute=0, second=0, microsecond=0)\n",
    "\n",
    "df['diffDate'] = df.ListingCreationDate.apply(trunc_datetime) - df.DateCreditPulled.apply(trunc_datetime)"
   ]
  },
  {
   "cell_type": "code",
   "execution_count": null,
   "metadata": {},
   "outputs": [],
   "source": [
    "df[['diffDate']].info()"
   ]
  },
  {
   "cell_type": "code",
   "execution_count": null,
   "metadata": {},
   "outputs": [],
   "source": [
    "df['dd_int'] = df.diffDate / np.timedelta64(1, 'D') # astype('int64')"
   ]
  },
  {
   "cell_type": "code",
   "execution_count": null,
   "metadata": {},
   "outputs": [],
   "source": [
    "#df['diffDate'] = df.diffDate.astype('object')"
   ]
  },
  {
   "cell_type": "code",
   "execution_count": null,
   "metadata": {},
   "outputs": [],
   "source": [
    "df[['diffDate', 'dd_int', 'ListingCreationDate', 'DateCreditPulled']].head(20)"
   ]
  },
  {
   "cell_type": "code",
   "execution_count": null,
   "metadata": {},
   "outputs": [],
   "source": [
    "# after creating a timedelta column (to integer), check if it makes a difference in borrowerrate\n",
    "print(sum(n >= 0 for n in df.dd_int), sum(n < 0 for n in df.dd_int))"
   ]
  },
  {
   "cell_type": "code",
   "execution_count": null,
   "metadata": {},
   "outputs": [],
   "source": [
    "sb.regplot(x='dd_int', y='BorrowerRate', data=df)"
   ]
  },
  {
   "cell_type": "code",
   "execution_count": null,
   "metadata": {},
   "outputs": [],
   "source": [
    "# create a new column that saves boolean of sign\n",
    "ddvc['d_sign'] = np.sign(ddvc.index)"
   ]
  },
  {
   "cell_type": "code",
   "execution_count": null,
   "metadata": {},
   "outputs": [],
   "source": [
    "ddvc.info()"
   ]
  },
  {
   "cell_type": "code",
   "execution_count": null,
   "metadata": {},
   "outputs": [],
   "source": [
    "ddvc.d_sign.value_counts()"
   ]
  },
  {
   "cell_type": "code",
   "execution_count": null,
   "metadata": {},
   "outputs": [],
   "source": [
    "print(list(pld.columns))"
   ]
  },
  {
   "cell_type": "code",
   "execution_count": null,
   "metadata": {},
   "outputs": [],
   "source": [
    "pld.ListingKey.nunique()"
   ]
  },
  {
   "cell_type": "code",
   "execution_count": null,
   "metadata": {},
   "outputs": [],
   "source": [
    "# there are 113937 records and 113066 unique listing keys. I will verify quickly if these are duplicates.\n",
    "key_counts = pld.ListingKey.value_counts()\n",
    "key_counts"
   ]
  },
  {
   "cell_type": "code",
   "execution_count": null,
   "metadata": {},
   "outputs": [],
   "source": [
    "key_counts.value_counts()"
   ]
  },
  {
   "cell_type": "code",
   "execution_count": null,
   "metadata": {},
   "outputs": [],
   "source": [
    "dup_idx = pld[pld.ListingKey.duplicated()]['ListingKey']\n",
    "print(type(dup_idx))\n",
    "print(dup_idx[:10])"
   ]
  },
  {
   "cell_type": "code",
   "execution_count": null,
   "metadata": {},
   "outputs": [],
   "source": [
    "tt = dup_idx.tolist()\n",
    "tt\n",
    "len(tt)"
   ]
  },
  {
   "cell_type": "code",
   "execution_count": null,
   "metadata": {},
   "outputs": [],
   "source": [
    "dup_listing_idx = set(dup_idx.tolist())\n",
    "len(dup_listing_idx)"
   ]
  },
  {
   "cell_type": "markdown",
   "metadata": {},
   "source": [
    "### Note:\n",
    "\n",
    "According to Prosper variable definitions, ListingKey is supposed to be UNIQUE. dup_listing_idx are the listing keys that have duplicates. I will remove their duplicates but keep the first. I will then assign a -1 in their ProsperScore to mark them as to be \"corrected\""
   ]
  },
  {
   "cell_type": "code",
   "execution_count": null,
   "metadata": {},
   "outputs": [],
   "source": [
    "sub_cols = ['ProsperScore', 'ListingKey', 'ListingNumber', 'ListingCreationDate', 'CreditGrade', 'Term', 'LoanStatus', 'ClosedDate', 'BorrowerAPR', 'BorrowerRate', 'LenderYield', 'EstimatedEffectiveYield', 'EstimatedLoss', 'EstimatedReturn', 'ProsperRating (numeric)', 'ProsperRating (Alpha)', 'ListingCategory (numeric)', 'BorrowerState', 'Occupation', 'EmploymentStatus', 'EmploymentStatusDuration', 'IsBorrowerHomeowner', 'CurrentlyInGroup', 'GroupKey', 'DateCreditPulled', 'CreditScoreRangeLower', 'CreditScoreRangeUpper', 'FirstRecordedCreditLine', 'CurrentCreditLines', 'OpenCreditLines', 'TotalCreditLinespast7years', 'OpenRevolvingAccounts', 'OpenRevolvingMonthlyPayment', 'InquiriesLast6Months', 'TotalInquiries', 'CurrentDelinquencies', 'AmountDelinquent', 'DelinquenciesLast7Years', 'PublicRecordsLast10Years', 'PublicRecordsLast12Months', 'RevolvingCreditBalance', 'BankcardUtilization', 'AvailableBankcardCredit', 'TotalTrades', 'TradesNeverDelinquent (percentage)', 'TradesOpenedLast6Months', 'DebtToIncomeRatio', 'IncomeRange', 'IncomeVerifiable', 'StatedMonthlyIncome', 'LoanKey', 'TotalProsperLoans', 'TotalProsperPaymentsBilled', 'OnTimeProsperPayments', 'ProsperPaymentsLessThanOneMonthLate', 'ProsperPaymentsOneMonthPlusLate', 'ProsperPrincipalBorrowed', 'ProsperPrincipalOutstanding', 'ScorexChangeAtTimeOfListing', 'LoanCurrentDaysDelinquent', 'LoanFirstDefaultedCycleNumber', 'LoanMonthsSinceOrigination', 'LoanNumber', 'LoanOriginalAmount', 'LoanOriginationDate', 'LoanOriginationQuarter', 'MemberKey', 'MonthlyLoanPayment', 'LP_CustomerPayments', 'LP_CustomerPrincipalPayments', 'LP_InterestandFees', 'LP_ServiceFees', 'LP_CollectionFees', 'LP_GrossPrincipalLoss', 'LP_NetPrincipalLoss', 'LP_NonPrincipalRecoverypayments', 'PercentFunded', 'Recommendations', 'InvestmentFromFriendsCount', 'InvestmentFromFriendsAmount', 'Investors']"
   ]
  },
  {
   "cell_type": "code",
   "execution_count": null,
   "metadata": {},
   "outputs": [],
   "source": [
    "# examine one ListingKey and see in which column the listings differ\n",
    "check_dups_df = pld[pld.ListingKey == '17A93590655669644DB4C06']\n",
    "# make sure that it is NOT spacing that makes a difference in non-duplicates\n",
    "check_dups_df = check_dups_df.apply(lambda x: x.str.strip() if x.dtype == \"object\" else x)\n",
    "#duplicaterows = check_dups_df[check_dups_df.duplicated(sub_cols)] \n",
    "#temp_df.to_csv('dupes.csv', index=None)"
   ]
  },
  {
   "cell_type": "code",
   "execution_count": null,
   "metadata": {},
   "outputs": [],
   "source": [
    "check_dups_df"
   ]
  },
  {
   "cell_type": "code",
   "execution_count": null,
   "metadata": {},
   "outputs": [],
   "source": [
    "temp_cols = ['ListingKey', 'ListingNumber', 'ListingCreationDate', 'CreditGrade', 'Term', 'LoanStatus', 'ClosedDate', 'BorrowerAPR', 'BorrowerRate', 'LenderYield', 'EstimatedEffectiveYield', 'EstimatedLoss', 'EstimatedReturn', 'ProsperRating (numeric)', 'ProsperRating (Alpha)', 'ListingCategory (numeric)', 'BorrowerState', 'Occupation', 'EmploymentStatus', 'EmploymentStatusDuration', 'IsBorrowerHomeowner', 'CurrentlyInGroup', 'GroupKey', 'DateCreditPulled', 'CreditScoreRangeLower', 'CreditScoreRangeUpper', 'FirstRecordedCreditLine', 'CurrentCreditLines', 'OpenCreditLines', 'TotalCreditLinespast7years', 'OpenRevolvingAccounts', 'OpenRevolvingMonthlyPayment', 'InquiriesLast6Months', 'TotalInquiries', 'CurrentDelinquencies', 'AmountDelinquent', 'DelinquenciesLast7Years', 'PublicRecordsLast10Years', 'PublicRecordsLast12Months', 'RevolvingCreditBalance', 'BankcardUtilization', 'AvailableBankcardCredit', 'TotalTrades', 'TradesNeverDelinquent (percentage)', 'TradesOpenedLast6Months', 'DebtToIncomeRatio', 'IncomeRange', 'IncomeVerifiable', 'StatedMonthlyIncome', 'LoanKey', 'TotalProsperLoans', 'TotalProsperPaymentsBilled', 'OnTimeProsperPayments', 'ProsperPaymentsLessThanOneMonthLate', 'ProsperPaymentsOneMonthPlusLate', 'ProsperPrincipalBorrowed', 'ProsperPrincipalOutstanding', 'ScorexChangeAtTimeOfListing', 'LoanCurrentDaysDelinquent', 'LoanFirstDefaultedCycleNumber', 'LoanMonthsSinceOrigination', 'LoanNumber', 'LoanOriginalAmount', 'LoanOriginationDate', 'LoanOriginationQuarter', 'MemberKey', 'MonthlyLoanPayment', 'LP_CustomerPayments', 'LP_CustomerPrincipalPayments', 'LP_InterestandFees', 'LP_ServiceFees', 'LP_CollectionFees', 'LP_GrossPrincipalLoss', 'LP_NetPrincipalLoss', 'LP_NonPrincipalRecoverypayments', 'PercentFunded', 'Recommendations', 'InvestmentFromFriendsCount', 'InvestmentFromFriendsAmount', 'Investors']"
   ]
  },
  {
   "cell_type": "code",
   "execution_count": null,
   "metadata": {},
   "outputs": [],
   "source": [
    "# Exclude the column ProsperScore, then see if the duplicates are dropped\n",
    "check_dups_df.drop_duplicates(subset=temp_cols, inplace=True, keep='first')\n",
    "check_dups_df"
   ]
  },
  {
   "cell_type": "markdown",
   "metadata": {},
   "source": [
    "### Notes:\n",
    "\n",
    "The rows above were identical except in column ProsperScore.\n",
    "Although initially since they were inconsistently assigned, I thought they should be dropped.\n",
    "I think now I will take the opportunity to see if I can correct these \"errors\"\n"
   ]
  },
  {
   "cell_type": "code",
   "execution_count": null,
   "metadata": {},
   "outputs": [],
   "source": [
    "pld.corr()"
   ]
  },
  {
   "cell_type": "code",
   "execution_count": null,
   "metadata": {},
   "outputs": [],
   "source": [
    "# there is some strange inconsistency in way prosper give prosperscore.\n",
    "# for example, the loan with listingkey 17A93590655669644DB4C06 has exactly the data in all the other columns\n",
    "# EXCEPT for prosperScore which had 4, 8, 7, 10, 5, 6 in content. BIZARRE!!\n",
    "# For that reason, I will drop the column prosperscore, and then drop_duplicates\n",
    "len(temp_cols)"
   ]
  },
  {
   "cell_type": "code",
   "execution_count": null,
   "metadata": {},
   "outputs": [],
   "source": [
    "#tpld = pld.drop(['ProsperScore'], axis=1)\n",
    "tpld = pld.copy()"
   ]
  },
  {
   "cell_type": "code",
   "execution_count": null,
   "metadata": {},
   "outputs": [],
   "source": [
    "tpld.shape"
   ]
  },
  {
   "cell_type": "code",
   "execution_count": null,
   "metadata": {},
   "outputs": [],
   "source": [
    "# trim spaces again to make sure it is not spaces that make a difference\n",
    "tpld = tpld.apply(lambda x: x.str.strip() if x.dtype == \"object\" else x)"
   ]
  },
  {
   "cell_type": "markdown",
   "metadata": {},
   "source": [
    "## Remove Duplicates"
   ]
  },
  {
   "cell_type": "markdown",
   "metadata": {},
   "source": [
    "### Note:\n",
    "\n",
    "Before I remove the duplicated rows, I would like to record the range of prosperScores that the listing keys were assigned"
   ]
  },
  {
   "cell_type": "code",
   "execution_count": null,
   "metadata": {},
   "outputs": [],
   "source": [
    "# dup_listing_idx contains the keys that have duplicates: tpld.loc[dup_listing_idx]\n",
    "lk_ps_df = tpld[tpld.ListingKey.isin(dup_listing_idx)][['ListingKey', 'ProsperScore']]"
   ]
  },
  {
   "cell_type": "code",
   "execution_count": null,
   "metadata": {},
   "outputs": [],
   "source": [
    "lk_ps_df = lk_ps_df.sort_values(by=['ListingKey', 'ProsperScore'])\n",
    "lk_ps_df.count()"
   ]
  },
  {
   "cell_type": "code",
   "execution_count": null,
   "metadata": {},
   "outputs": [],
   "source": [
    "# create a new column ProsperScoreRange and set index to ListingKey\n",
    "lk_ps_df['ProsperScoreRange'] = None\n",
    "lk_ps_df = lk_ps_df.set_index(['ListingKey'])"
   ]
  },
  {
   "cell_type": "code",
   "execution_count": null,
   "metadata": {},
   "outputs": [],
   "source": [
    "# create a dictionary with key as ListingKey and the ProsperScore range as value\n",
    "psr_dict = {}\n",
    "for lk in dup_listing_idx:\n",
    "    psr_dict[lk] = lk_ps_df.loc[lk]['ProsperScore'].tolist()\n",
    "list(psr_dict.items())[:10]"
   ]
  },
  {
   "cell_type": "code",
   "execution_count": null,
   "metadata": {},
   "outputs": [],
   "source": [
    "# place all the new range value from the dictionary into dataframe\n",
    "for k, v in psr_dict.items():\n",
    "    vstr = [str(i) for i in v] # convert the list into strings\n",
    "    yy = \",\".join(vstr)\n",
    "    lk_ps_df.loc[k, 'ProsperScoreRange'] = yy"
   ]
  },
  {
   "cell_type": "code",
   "execution_count": null,
   "metadata": {},
   "outputs": [],
   "source": [
    "lk_ps_df.head(10)"
   ]
  },
  {
   "cell_type": "code",
   "execution_count": null,
   "metadata": {},
   "outputs": [],
   "source": [
    "# reset the index then drop the column ProsperScore from lk_ps_df\n",
    "lk_ps_df.reset_index(inplace=True)\n",
    "lk_ps_df = lk_ps_df.drop(['ProsperScore'], axis=1)"
   ]
  },
  {
   "cell_type": "code",
   "execution_count": null,
   "metadata": {},
   "outputs": [],
   "source": [
    "lk_ps_df.count()"
   ]
  },
  {
   "cell_type": "code",
   "execution_count": null,
   "metadata": {},
   "outputs": [],
   "source": [
    "# now remove all the duplicates on ListingKey\n",
    "lk_ps_df.drop_duplicates(subset=['ListingKey'], inplace=True, keep='first')"
   ]
  },
  {
   "cell_type": "code",
   "execution_count": null,
   "metadata": {},
   "outputs": [],
   "source": [
    "lk_ps_df.count()"
   ]
  },
  {
   "cell_type": "markdown",
   "metadata": {},
   "source": [
    "### Note:\n",
    "The count above matches the count of dup_listing_idx"
   ]
  },
  {
   "cell_type": "code",
   "execution_count": null,
   "metadata": {},
   "outputs": [],
   "source": [
    "# quickly examine the listing keys in my working dataframe tpld\n",
    "# the temp_cols list is the list of columns without ProsperScore\n",
    "duplicaterows = tpld[tpld.duplicated(temp_cols)]\n",
    "duplicaterows.ListingKey.value_counts()"
   ]
  },
  {
   "cell_type": "code",
   "execution_count": null,
   "metadata": {},
   "outputs": [],
   "source": [
    "# backup tpld\n",
    "tpld_backup = tpld.copy()"
   ]
  },
  {
   "cell_type": "code",
   "execution_count": null,
   "metadata": {},
   "outputs": [],
   "source": [
    "# drop all the duplicates in tpld based on temp_cols subset (i.e., without ProsperScore)\n",
    "tpld.drop_duplicates(subset=temp_cols, inplace=True, keep='first')"
   ]
  },
  {
   "cell_type": "code",
   "execution_count": null,
   "metadata": {},
   "outputs": [],
   "source": [
    "# merge the two df tpld and lk_ps_df on ListingKey\n",
    "tpld = pd.merge(tpld, lk_ps_df, on=['ListingKey'], how='left')\n",
    "tpld.head()"
   ]
  },
  {
   "cell_type": "code",
   "execution_count": null,
   "metadata": {},
   "outputs": [],
   "source": [
    "new_key_counts = tpld.ListingKey.value_counts()\n",
    "new_key_counts.value_counts()"
   ]
  },
  {
   "cell_type": "code",
   "execution_count": null,
   "metadata": {},
   "outputs": [],
   "source": [
    "tpld.shape"
   ]
  },
  {
   "cell_type": "code",
   "execution_count": null,
   "metadata": {},
   "outputs": [],
   "source": [
    "tpld.ProsperScore.value_counts()"
   ]
  },
  {
   "cell_type": "code",
   "execution_count": null,
   "metadata": {},
   "outputs": [],
   "source": [
    "tpld['ProsperRating (Alpha)'].value_counts()"
   ]
  },
  {
   "cell_type": "code",
   "execution_count": null,
   "metadata": {},
   "outputs": [],
   "source": [
    "tpld['ProsperRating (numeric)'].value_counts()"
   ]
  },
  {
   "cell_type": "code",
   "execution_count": null,
   "metadata": {},
   "outputs": [],
   "source": [
    "tpld['CreditGrade'].value_counts()"
   ]
  },
  {
   "cell_type": "markdown",
   "metadata": {},
   "source": [
    "### Notes:\n",
    "\n",
    "ProsperRating alpha and numeric match exactly in count. CreditGrade has the same letter grades as ProsperRating. Prosper's variable definitions did not specify if the grading system in ProsperRating and CreditGrade. I am hoping that upon analysis below that it confirms that they are the same grading system."
   ]
  },
  {
   "cell_type": "code",
   "execution_count": null,
   "metadata": {},
   "outputs": [],
   "source": [
    "pld.shape[0] - tpld.shape[0]"
   ]
  },
  {
   "cell_type": "code",
   "execution_count": null,
   "metadata": {},
   "outputs": [],
   "source": [
    "#select_features = ['EmploymentStatus', 'LoanOriginalAmount', 'CreditScoreRangeUpper', 'LoanStatus', 'BorrowerRate', 'StatedMonthlyIncome', 'ProsperRating (numeric)', 'ListingCategory (numeric)', 'IsBorrowerHomeowner']\n",
    "select_features = ['ListingKey', 'EmploymentStatusDuration', 'EmploymentStatus', 'LoanOriginalAmount', 'CreditGrade', 'ProsperRating (numeric)', 'ProsperScore', 'ProsperScoreRange', 'BorrowerRate', 'CreditScoreRangeUpper', 'CurrentDelinquencies', 'IsBorrowerHomeowner', 'CurrentCreditLines', 'AvailableBankcardCredit']\n",
    "df = tpld[select_features]\n",
    "df.info()"
   ]
  },
  {
   "cell_type": "code",
   "execution_count": null,
   "metadata": {},
   "outputs": [],
   "source": [
    "df.shape"
   ]
  },
  {
   "cell_type": "code",
   "execution_count": null,
   "metadata": {},
   "outputs": [],
   "source": [
    "# There is a lot of nulls. what to do?\n",
    "# drop listingnumber, borrowerapr (seems similar to borrowerrate), Investmentfromfriendscount, investmentfromfriendsamount,\n",
    "# percentfunded (nearly 100%)\n",
    "df.corr()"
   ]
  },
  {
   "cell_type": "code",
   "execution_count": null,
   "metadata": {},
   "outputs": [],
   "source": [
    "df.describe()"
   ]
  },
  {
   "cell_type": "code",
   "execution_count": null,
   "metadata": {},
   "outputs": [],
   "source": [
    "df.isnull().sum()"
   ]
  },
  {
   "cell_type": "code",
   "execution_count": null,
   "metadata": {},
   "outputs": [],
   "source": [
    "print(list(df.columns))"
   ]
  },
  {
   "cell_type": "markdown",
   "metadata": {},
   "source": [
    "### What is the structure of your dataset?\n",
    "\n",
    "The original dataset had (113937, 81). After discovering that Prosper had inconsistencies in using the feature ProsperScore, I added a new column called ProsperScoreRange. I then dropped all the duplicated rows but keeping the first among the duplicated. The new shape is (113937, 82). With the selected features, the final shape is (113066, 14)\n",
    "\n",
    "### What is/are the main feature(s) of interest in your dataset?\n",
    "\n",
    "ProsperRating and BorrowerRate features are interesting. I would like to see if it's predictable based on some features. The BorrowerRate is highly correlated to ProsperRating so I believe BorrowerRate is derivative. I would like to keep track of these 2 features based on the features below.\n",
    "\n",
    "Initially, I was interested in predicting ProsperRating. It is however highly correlative to BorrowerRate. But some samples do not have ProsperRating but they all have BorrowerRate. Ultimately if this is a automation or machine learning problem. If I choose to predict ProsperRating, it would be a classification problem. If I choose BorrowerRate, it would be a regression problem. Since it is not the purpose of this project, I will leave the automation problem for a future task.\n",
    "\n",
    "I will attempt to correct the ProsperScore on those index that had duplicates in exploration.\n",
    "\n",
    "Since ProsperRating and CreditGrade are mutually exclusive, I will also combine them in a new column. They both have BorrowerRate. So I will examine if they correlate with BorrowerRate.\n",
    "\n",
    "I will examine in bivariate section how CreditGrade's relationship to BorrowerRate compares with that of PropserRating.\n",
    "\n",
    "\n",
    "### What features in the dataset do you think will help support your investigation into your feature(s) of interest?\n",
    "\n",
    "I will investigate the following features.\n",
    "\n",
    "'ListingKey', 'EmploymentStatusDuration', 'EmploymentStatus', 'LoanOriginalAmount', 'CreditGrade', 'ProsperRating (numeric)', 'ProsperScore', 'ProsperScoreRange', 'BorrowerRate', 'CreditScoreRangeUpper', 'CurrentDelinquencies', 'IsBorrowerHomeowner', 'CurrentCreditLines', 'AvailableBankcardCredit'\n",
    "\n",
    "And keep track of these 2 features against the features above.\n",
    "'BorrowerRate', 'ProsperRating (numeric)'\n",
    "\n",
    "I retained the ListingKey so I can continue to process below."
   ]
  },
  {
   "cell_type": "code",
   "execution_count": null,
   "metadata": {},
   "outputs": [],
   "source": [
    "df = df.rename(columns={'ProsperRating (numeric)': 'ProsperRating'})"
   ]
  },
  {
   "cell_type": "markdown",
   "metadata": {},
   "source": [
    "## Univariate Exploration\n",
    "\n",
    "> In this section, investigate distributions of individual variables. If\n",
    "you see unusual points or outliers, take a deeper look to clean things up\n",
    "and prepare yourself to look at relationships between variables."
   ]
  },
  {
   "cell_type": "code",
   "execution_count": null,
   "metadata": {},
   "outputs": [],
   "source": [
    "# set a base color palette\n",
    "pleasant = sb.color_palette()[0]"
   ]
  },
  {
   "cell_type": "code",
   "execution_count": null,
   "metadata": {},
   "outputs": [],
   "source": [
    "#fig, ax = plt.subplots(figsize=(10,8))\n",
    "#df.EmploymentStatus.plot(kind='bar', ax=ax)\n",
    "#plt.show();\n",
    "plt.figure(figsize=(10,8))\n",
    "sb.countplot(data = df, x='EmploymentStatus', color=pleasant)\n",
    "plt.xticks(rotation=45, horizontalalignment='right')\n",
    "plt.title('Employment Status Count');"
   ]
  },
  {
   "cell_type": "markdown",
   "metadata": {},
   "source": [
    "### Notes: \n",
    "\n",
    "Although I will compare in bivariate analysis later the relationship between EmploymentStatus and EmloymentStatusDuration, I will do them here one-by-one first.\n",
    "\n",
    "Nearly all of the borrowers are employed. Very few borrowers have \"Not employed\" status. It would be interesting to see what other factors Prosper used to extend loans to the unemployed borrowers."
   ]
  },
  {
   "cell_type": "code",
   "execution_count": null,
   "metadata": {},
   "outputs": [],
   "source": [
    "plt.figure(figsize=(10,8))\n",
    "sb.histplot(data=df, x='EmploymentStatusDuration', color=pleasant, bins=100)\n",
    "plt.xlabel('Employment Duration in months')\n",
    "plt.title('Employment Duration in months')"
   ]
  },
  {
   "cell_type": "markdown",
   "metadata": {},
   "source": [
    "### Notes:\n",
    "\n",
    "It is extremely right-skewed. Most people worked below 100 months in their current employment status"
   ]
  },
  {
   "cell_type": "code",
   "execution_count": null,
   "metadata": {},
   "outputs": [],
   "source": [
    "plt.figure(figsize=(10,8))\n",
    "sb.histplot(data=df, x='EmploymentStatusDuration', color=pleasant, bins=100)\n",
    "plt.xscale('log')\n",
    "plt.xlabel('Employment Duration in months')\n",
    "plt.title('Employment Duration in months');"
   ]
  },
  {
   "cell_type": "markdown",
   "metadata": {},
   "source": [
    "### Notes:\n",
    "\n",
    "I am not sure if this transformation elucidated the right-skewedness of the distribution."
   ]
  },
  {
   "cell_type": "code",
   "execution_count": null,
   "metadata": {},
   "outputs": [],
   "source": [
    "sb.countplot(data=df, x='ProsperRating', color=pleasant)\n",
    "plt.title('ProsperRating Count');"
   ]
  },
  {
   "cell_type": "markdown",
   "metadata": {},
   "source": [
    "### Notes:\n",
    "\n",
    "ProsperRating is normally distributed."
   ]
  },
  {
   "cell_type": "code",
   "execution_count": null,
   "metadata": {},
   "outputs": [],
   "source": [
    "sb.boxplot(data=df, x='ProsperRating')\n",
    "plt.title('Another view of the obvious');"
   ]
  },
  {
   "cell_type": "markdown",
   "metadata": {},
   "source": [
    "### Notes:\n",
    "\n",
    "This strongly confirms the normal distribution."
   ]
  },
  {
   "cell_type": "code",
   "execution_count": null,
   "metadata": {},
   "outputs": [],
   "source": [
    "sb.countplot(data=df, x='ProsperScore', color=pleasant)\n",
    "plt.title('ProsperScore Count')"
   ]
  },
  {
   "cell_type": "markdown",
   "metadata": {},
   "source": [
    "#### Note:\n",
    "\n",
    "Both ProsperScore and ProsperRating seem to be ordinal. It is not clear to me whether bigger score is better or worse. I will examine further. However, they both seem to have a normal distribution. The Prosper Loan Dictionary did not specify which one is best."
   ]
  },
  {
   "cell_type": "code",
   "execution_count": null,
   "metadata": {},
   "outputs": [],
   "source": [
    "plt.figure(figsize=(10,8))\n",
    "sb.histplot(data=df, x='BorrowerRate', color=pleasant)\n",
    "plt.title('Distribution of BorrowerRate');"
   ]
  },
  {
   "cell_type": "markdown",
   "metadata": {},
   "source": [
    "### Notes:\n",
    "\n",
    "This distribution is all over the place. There wild peaks around .15, .25 and .35, and a especially huge one around .32."
   ]
  },
  {
   "cell_type": "code",
   "execution_count": null,
   "metadata": {},
   "outputs": [],
   "source": [
    "plt.figure(figsize=(10,8))\n",
    "sb.distplot(x=df.BorrowerRate, color=pleasant)\n",
    "plt.title('Distribution of Borrower Rate with kde');"
   ]
  },
  {
   "cell_type": "markdown",
   "metadata": {},
   "source": [
    "### Notes:\n",
    "\n",
    "There's a lot of humps here. multimodal. It seems most loans had borrower rate between .1 and .2. However, there are also many between .2 and .3 and a really huge hump just above .3."
   ]
  },
  {
   "cell_type": "code",
   "execution_count": null,
   "metadata": {},
   "outputs": [],
   "source": [
    "fig, ax = plt.subplots(figsize=(12,10))\n",
    "#, \n",
    "df.hist(['LoanOriginalAmount', 'CreditScoreRangeUpper', 'CurrentDelinquencies', 'CurrentCreditLines', 'AvailableBankcardCredit'], ax=ax);"
   ]
  },
  {
   "cell_type": "markdown",
   "metadata": {},
   "source": [
    "### Notes:\n",
    "\n",
    "This is a quick series of distribution plots:\n",
    "- Most `LoanOriginalAmount` are below 10k, with bumps at increments of 5000.\n",
    "- `CreditScoreRangeUpper` range from 450 to 900\n",
    "- Nearly all borrowers have `CurrentDelinquencies` below 10.\n",
    "- Most borrowers have `CurrentCreditLines` between 5 and 15.\n",
    "- Nearly all borrowers have `AvailableBankcardCredit` below 10k"
   ]
  },
  {
   "cell_type": "code",
   "execution_count": null,
   "metadata": {},
   "outputs": [],
   "source": [
    "plt.figure(figsize=(10,8))\n",
    "sb.countplot(data=df, x='CurrentCreditLines', color=pleasant)\n",
    "plt.xticks(rotation=90)\n",
    "plt.title('Number of Current Credit Lines');"
   ]
  },
  {
   "cell_type": "markdown",
   "metadata": {},
   "source": [
    "### Notes:\n",
    "\n",
    "Before 20, `CurrentCreditLines` looks to have a normal distribution."
   ]
  },
  {
   "cell_type": "code",
   "execution_count": null,
   "metadata": {},
   "outputs": [],
   "source": [
    "plt.figure(figsize=(10,8))\n",
    "sb.countplot(data=df, x='CurrentCreditLines', color=pleasant)\n",
    "plt.xlim(0,20)\n",
    "plt.xticks(rotation=90)\n",
    "plt.title('Number of Current Credit Lines');"
   ]
  },
  {
   "cell_type": "markdown",
   "metadata": {},
   "source": [
    "### Notes:\n",
    "\n",
    "It is slightly right-skewed with the mean just slightly higher than the median. There are some big outliers. It looks almost normal when I limited the x-axis."
   ]
  },
  {
   "cell_type": "code",
   "execution_count": null,
   "metadata": {},
   "outputs": [],
   "source": [
    "print(f\"median: {df.CurrentCreditLines.median()}, mean: {df.CurrentCreditLines.mean()}\")"
   ]
  },
  {
   "cell_type": "code",
   "execution_count": null,
   "metadata": {},
   "outputs": [],
   "source": [
    "plt.figure(figsize=(10,8))\n",
    "sb.histplot(data=df, x='LoanOriginalAmount', color=pleasant, bins=100)\n",
    "plt.title('Distribution of Loan Amounts');"
   ]
  },
  {
   "cell_type": "markdown",
   "metadata": {},
   "source": [
    "### Notes:\n",
    "\n",
    "As I suspected above, the loan amounts had peaks around increments of 5000."
   ]
  },
  {
   "cell_type": "code",
   "execution_count": null,
   "metadata": {},
   "outputs": [],
   "source": [
    "plt.figure(figsize=(10,8))\n",
    "sb.distplot(x=df.LoanOriginalAmount, color=pleasant)\n",
    "plt.title('Distribution of Loan Amount with kde');"
   ]
  },
  {
   "cell_type": "markdown",
   "metadata": {},
   "source": [
    "### Notes:\n",
    "\n",
    "I do not know what to make of this yet. The bumps look like the bank preferred to lend in increments of 5000. Big bump at 5000, then bumps at 10000, 15000, 20000, and 25000 (perhaps even at 30000 and 35000)"
   ]
  },
  {
   "cell_type": "code",
   "execution_count": null,
   "metadata": {},
   "outputs": [],
   "source": [
    "sb.countplot(data=df, x='IsBorrowerHomeowner', color=pleasant);"
   ]
  },
  {
   "cell_type": "markdown",
   "metadata": {},
   "source": [
    "### Notes:\n",
    "\n",
    "There are about as many homeowners than not. This is nearly uniform."
   ]
  },
  {
   "cell_type": "code",
   "execution_count": null,
   "metadata": {},
   "outputs": [],
   "source": [
    "df.IsBorrowerHomeowner.value_counts()"
   ]
  },
  {
   "cell_type": "code",
   "execution_count": null,
   "metadata": {},
   "outputs": [],
   "source": [
    "plt.figure(figsize=(10,8))\n",
    "sb.histplot(data=df, x='CreditScoreRangeUpper', color=pleasant, bins=100)\n",
    "plt.xlim(625,800)\n",
    "plt.title('Distribution of Credit Scores');"
   ]
  },
  {
   "cell_type": "markdown",
   "metadata": {},
   "source": [
    "#### Notes:\n",
    "\n",
    "The credit score distribution looks almost normal with the mean and the median at around 700.\n",
    "\n",
    "I will assume that CreditGrade has the same legend as ProsperRating which is \n",
    "\n",
    "The  Prosper Rating assigned at the time the listing was created: 0 - N/A, 1 - HR, 2 - E, 3 - D, 4 - C, 5 - B, 6 - A, 7 - AA.  Applicable for loans originated after July 2009.\n",
    "\n",
    "I will create a numeric column based on CreditGrade"
   ]
  },
  {
   "cell_type": "markdown",
   "metadata": {},
   "source": [
    "## Convert CreditGrade to number rating"
   ]
  },
  {
   "cell_type": "code",
   "execution_count": null,
   "metadata": {},
   "outputs": [],
   "source": [
    "df.CreditGrade.value_counts()"
   ]
  },
  {
   "cell_type": "code",
   "execution_count": null,
   "metadata": {},
   "outputs": [],
   "source": [
    "pr_dict = {'NC': 0, 'HR': 1, 'E': 2, 'D': 3, 'C': 4, 'B': 5, 'A': 6, 'AA': 7}"
   ]
  },
  {
   "cell_type": "code",
   "execution_count": null,
   "metadata": {},
   "outputs": [],
   "source": [
    "df.CreditGrade.replace(pr_dict, inplace=True)"
   ]
  },
  {
   "cell_type": "code",
   "execution_count": null,
   "metadata": {},
   "outputs": [],
   "source": [
    "plt.figure(figsize=(10,8))\n",
    "sb.countplot(data = df, x='CreditGrade', color=pleasant)\n",
    "#plt.xticks(rotation=45, horizontalalignment='right')\n",
    "plt.title('Credit Grade Count');"
   ]
  },
  {
   "cell_type": "markdown",
   "metadata": {},
   "source": [
    "### Notes:\n",
    "\n",
    "If we discount 0 rating, `CreditGrade` looks to be almost normal."
   ]
  },
  {
   "cell_type": "code",
   "execution_count": null,
   "metadata": {},
   "outputs": [],
   "source": [
    "df[['CreditGrade', 'ProsperRating']].describe()"
   ]
  },
  {
   "cell_type": "markdown",
   "metadata": {},
   "source": [
    "#### Notes:\n",
    "\n",
    "If you discount, the 0 rating it looks normal. And the distribution is comparable to ProsperRating. This confirms that the alphabetic rating used in ProsperRating is the same as the alphabetic rating used in CreditGrade."
   ]
  },
  {
   "cell_type": "markdown",
   "metadata": {},
   "source": [
    "### Discuss the distribution(s) of your variable(s) of interest. Were there any unusual points? Did you need to perform any transformations?\n",
    "\n",
    "My variable of interest the BorrowerRate since all the records have that. BorrowerRate has a lot of peaks. ProsperRating has a normal distribution. ProsperScore is not as normal as ProsperRating. Nevertheless, I will do some more cleaning below after I do some bivariate analysis. I attempted to do a transformation on employment duration. It confirmed that most borrowers worked at least 2 years.\n",
    "\n",
    "### Of the features you investigated, were there any unusual distributions? Did you perform any operations on the data to tidy, adjust, or change the form of the data? If so, why did you do this?\n",
    "\n",
    "As I mentioned that there were some ListingKeys that had duplicates that only differed in their ProsperScore content. I believe these were clerical errors. I kept one of each duplicated Listing. But I created a new column called ProsperScoreRange so that I can examine the \"incorrect\" ProsperScores after I impute values into ProsperScore based on ProsperRating.\n",
    "\n",
    "I converted the CreditGrade column to the numerical rating described in the description of ProsperRating in the Prosper's variable definitions. If you discount the 0 rating, CreditGrade looks normal. And the distribution is comparable to ProsperRating. This confirms that the alphabetic rating used in ProsperRating is the same as the alphabetic rating used in CreditGrade."
   ]
  },
  {
   "cell_type": "markdown",
   "metadata": {},
   "source": [
    "## Bivariate Exploration\n",
    "\n",
    "> In this section, investigate relationships between pairs of variables in your\n",
    "data. Make sure the variables that you cover here have been introduced in some\n",
    "fashion in the previous section (univariate exploration)."
   ]
  },
  {
   "cell_type": "code",
   "execution_count": null,
   "metadata": {},
   "outputs": [],
   "source": [
    "# Now I will create a new column combining ProsperRating and CreditGrade since they are mutually exclusive\n",
    "# But first I would like to confirm that CreditGrade's relationship to BorrowerRate is similar to that of ProsperRating.\n",
    "sb.catplot(data=df, x='CreditGrade', y='BorrowerRate', color=pleasant, alpha=0.1);"
   ]
  },
  {
   "cell_type": "markdown",
   "metadata": {},
   "source": [
    "### Notes:\n",
    "\n",
    "The relationship density between `BorrowerRate` and `CreditGrade` trends negatively."
   ]
  },
  {
   "cell_type": "code",
   "execution_count": null,
   "metadata": {},
   "outputs": [],
   "source": [
    "sb.catplot(data=df, x='ProsperRating', y='BorrowerRate', color=pleasant, alpha=0.1);"
   ]
  },
  {
   "cell_type": "markdown",
   "metadata": {},
   "source": [
    "### Notes:\n",
    "\n",
    "Similar to above, the relationship density between `BorrowerRate` and `ProsperRating` trends negatively."
   ]
  },
  {
   "cell_type": "code",
   "execution_count": null,
   "metadata": {},
   "outputs": [],
   "source": [
    "fig, (ax1, ax2) = plt.subplots(ncols=2, sharey=True)\n",
    "sb.regplot(x='ProsperRating', y='BorrowerRate', ax=ax1, data=df)\n",
    "sb.regplot(x='CreditGrade', y='BorrowerRate', ax=ax2, data=df)"
   ]
  },
  {
   "cell_type": "markdown",
   "metadata": {},
   "source": [
    "### Notes:\n",
    "\n",
    "Side-by-side, it is clearer that they are similary correlated to `BorrowerRate`. It warrants that they be combine into one column. Reminder that they are mutually exclusive CreditGrade (pre mid 2009), ProsperRating (post mid 2009)."
   ]
  },
  {
   "cell_type": "code",
   "execution_count": null,
   "metadata": {},
   "outputs": [],
   "source": [
    "sb.heatmap(df.corr(), fmt='.2f', annot=True, cmap='RdBu_r')"
   ]
  },
  {
   "cell_type": "markdown",
   "metadata": {},
   "source": [
    "### Notes:\n",
    "\n",
    "ProsperRating and ProsperScore are positively correlative\n",
    "\n",
    "ProsperScore and ProsperRating are highly negatively correlative with BorrowerRate. Since all loans have a BorrowerRate, I believe that these 3 features are co-determined based on all the other features.\n",
    "\n",
    "The heatmap confirms that ProsperRating and CreditGrade are in fact mutually exclusive. Their graphs also are comparable agains BorrowerRate. I will now combine ProsperRating and CreditGrade in one column."
   ]
  },
  {
   "cell_type": "markdown",
   "metadata": {},
   "source": [
    "## Combine CreditGrade and ProsperRating into one column"
   ]
  },
  {
   "cell_type": "code",
   "execution_count": null,
   "metadata": {},
   "outputs": [],
   "source": [
    "df[['CreditGrade', 'ProsperRating']].notnull().sum()"
   ]
  },
  {
   "cell_type": "code",
   "execution_count": null,
   "metadata": {},
   "outputs": [],
   "source": [
    "df['ProsperRatingGrade'] = df['ProsperRating']"
   ]
  },
  {
   "cell_type": "code",
   "execution_count": null,
   "metadata": {},
   "outputs": [],
   "source": [
    "df.ProsperRatingGrade.update(df['CreditGrade'])\n",
    "df.ProsperRatingGrade.isnull().sum()"
   ]
  },
  {
   "cell_type": "markdown",
   "metadata": {},
   "source": [
    "### Notes:\n",
    "All 113066 records accounted for."
   ]
  },
  {
   "cell_type": "code",
   "execution_count": null,
   "metadata": {},
   "outputs": [],
   "source": [
    "df[['CreditGrade', 'ProsperRating', 'ProsperRatingGrade']].sample(1000).head(20)"
   ]
  },
  {
   "cell_type": "markdown",
   "metadata": {},
   "source": [
    "#### Notes:\n",
    "\n",
    "I successfully combined the CreditGrade and ProsperScore. I will now do more bivariate analysis"
   ]
  },
  {
   "cell_type": "code",
   "execution_count": null,
   "metadata": {},
   "outputs": [],
   "source": [
    "sb.pairplot(df[['EmploymentStatusDuration', 'EmploymentStatus', 'LoanOriginalAmount', 'ProsperRatingGrade', 'BorrowerRate', 'CreditScoreRangeUpper', 'CurrentDelinquencies', 'IsBorrowerHomeowner', 'CurrentCreditLines', 'AvailableBankcardCredit']])"
   ]
  },
  {
   "cell_type": "markdown",
   "metadata": {},
   "source": [
    "### Notes:\n",
    "\n",
    "This is not so readable. But this quickly gives me hints on how to plot the relationships better."
   ]
  },
  {
   "cell_type": "raw",
   "metadata": {},
   "source": [
    "# code below to be used in exlanatory part\n",
    "fig, (ax1, ax2) = plt.subplots(ncols=2, sharey=True, figsize=(12,10))\n",
    "sb.regplot(y='BorrowerRate', x='CreditScore', data=df.sample(frac=.25), ax=ax1, line_kws={'color':'red'})\n",
    "sb.regplot(y='BorrowerRate', x='LoanOriginalAmount', data=df.sample(frac=.25), ax=ax2, line_kws={'color':'red'})\n",
    "plt.xlabel('Credit Scores')\n",
    "ax1.set_xlim(left=300)\n",
    "fig.suptitle('Borrower Rates against Credit Scores rating pre-2009 and post-2009');"
   ]
  },
  {
   "cell_type": "code",
   "execution_count": null,
   "metadata": {},
   "outputs": [],
   "source": [
    "sb.catplot(data=df, x='ProsperRatingGrade', y='BorrowerRate', color=pleasant, alpha=0.1);"
   ]
  },
  {
   "cell_type": "markdown",
   "metadata": {},
   "source": [
    "### Notes:\n",
    "\n",
    "`ProsperRatingGrade` is the column that combines `CreditGrade` and `ProsperRating`. Obviously, the density and trend of relationship of each of those features against `BorrowerRate`."
   ]
  },
  {
   "cell_type": "code",
   "execution_count": null,
   "metadata": {},
   "outputs": [],
   "source": [
    "sb.lmplot(data=df.sample(11000), x='ProsperRatingGrade', y='BorrowerRate', x_jitter=.05)"
   ]
  },
  {
   "cell_type": "markdown",
   "metadata": {},
   "source": [
    "### Notes:\n",
    "\n",
    "This shows that the higher the ProsperRatingGrade the lower BorrowerRate."
   ]
  },
  {
   "cell_type": "markdown",
   "metadata": {},
   "source": [
    "## Correcting ProsperScore"
   ]
  },
  {
   "cell_type": "code",
   "execution_count": null,
   "metadata": {},
   "outputs": [],
   "source": [
    "sb.catplot(data=df, x='ProsperRating', y='ProsperScore', color=pleasant, alpha=0.009)"
   ]
  },
  {
   "cell_type": "markdown",
   "metadata": {},
   "source": [
    "### Notes:\n",
    "\n",
    "Is it justifiable to use `ProsperRating` to correct `ProsperScore`? The density hints at a positive correlation."
   ]
  },
  {
   "cell_type": "code",
   "execution_count": null,
   "metadata": {},
   "outputs": [],
   "source": [
    "sb.lmplot(data=df.sample(11000), x='ProsperRating', y='ProsperScore')"
   ]
  },
  {
   "cell_type": "markdown",
   "metadata": {},
   "source": [
    "## Notes:\n",
    "\n",
    "The line shows a correspondence between `ProsperRating` and `ProsperScore`."
   ]
  },
  {
   "cell_type": "code",
   "execution_count": null,
   "metadata": {},
   "outputs": [],
   "source": [
    "# what is the average score in each rating\n",
    "# get a temporary df without the dup IDs\n",
    "temp_df = df[~df.ListingKey.isin(dup_listing_idx)]"
   ]
  },
  {
   "cell_type": "code",
   "execution_count": null,
   "metadata": {},
   "outputs": [],
   "source": [
    "temp_df.shape"
   ]
  },
  {
   "cell_type": "code",
   "execution_count": null,
   "metadata": {},
   "outputs": [],
   "source": [
    "fig, ax = plt.subplots(figsize=(10,8))\n",
    "#plt.figure(figsize=(10,8))\n",
    "sb.lineplot(data=temp_df, x='ProsperRating', y='ProsperScore', marker='o')\n",
    "ax.set_yticks(np.arange(11))\n",
    "plt.title('ProsperScore against ProsperRating');"
   ]
  },
  {
   "cell_type": "markdown",
   "metadata": {},
   "source": [
    "### Notes:\n",
    "\n",
    "The graph did not really change much. But I will use the opportunity to \"correct\" ProsperScore based on ProsperRating to get to know the data better"
   ]
  },
  {
   "cell_type": "code",
   "execution_count": null,
   "metadata": {},
   "outputs": [],
   "source": [
    "grptemp = temp_df.groupby('ProsperRating')"
   ]
  },
  {
   "cell_type": "code",
   "execution_count": null,
   "metadata": {},
   "outputs": [],
   "source": [
    "grptemp.mean()"
   ]
  },
  {
   "cell_type": "code",
   "execution_count": null,
   "metadata": {},
   "outputs": [],
   "source": [
    "gm = grptemp.mean()\n",
    "print(gm.ProsperScore.apply(np.ceil))"
   ]
  },
  {
   "cell_type": "code",
   "execution_count": null,
   "metadata": {},
   "outputs": [],
   "source": [
    "grptemp.median()"
   ]
  },
  {
   "cell_type": "markdown",
   "metadata": {},
   "source": [
    "### Note:\n",
    "\n",
    "I will use the mean scores obtained above to \"correct\" the ProsperScore in those duplicated indices with varying ProsperScore. Although I do not believe that this corrects the ProsperScore, I will use it for now. I will try to confirm by other means if my simple \"correction\" based on ProsperRating approximates truth. I did save the original ProsperScores in a new column called ProsperScoreRange."
   ]
  },
  {
   "cell_type": "code",
   "execution_count": null,
   "metadata": {},
   "outputs": [],
   "source": [
    "# work with grouped mean dataframe and reset index\n",
    "# then create a dictionary with ProsperRating as key and ProsperScore as value from mean() dataframe\n",
    "gm = gm.reset_index() # necessary to use ProsperRating again as a column\n",
    "p_score = dict(zip(gm.ProsperRating, gm.ProsperScore.apply(np.ceil)))\n",
    "p_score"
   ]
  },
  {
   "cell_type": "code",
   "execution_count": null,
   "metadata": {},
   "outputs": [],
   "source": [
    "#df = work_df.copy()"
   ]
  },
  {
   "cell_type": "code",
   "execution_count": null,
   "metadata": {},
   "outputs": [],
   "source": [
    "work_df = df.copy() # just another backup of working dataframe"
   ]
  },
  {
   "cell_type": "code",
   "execution_count": null,
   "metadata": {},
   "outputs": [],
   "source": [
    "# with working dataframe df, for each Listing key in dup_listing_idx\n",
    "# change the ProsperScore to the corresponding one in the ps_score dictionary\n",
    "# I tried the declarative way below. But I experimented too much. I will use procedural way instead.\n",
    "#work_df.loc[work_df.ListingKey.isin(dup_listing_idx), 'ProsperScore'] = work_df.ProsperScore.map(p_score)\n",
    "for idx in dup_listing_idx:\n",
    "    pr = float(df[df.ListingKey==idx]['ProsperRating']) # get the ProsperRating to use for dict lookup\n",
    "    df.loc[(df.ListingKey==idx), 'ProsperScore'] = p_score.get(pr)"
   ]
  },
  {
   "cell_type": "code",
   "execution_count": null,
   "metadata": {},
   "outputs": [],
   "source": [
    "#peek_df = work_df[work_df.ListingKey.eq('09233589620788733CFB8CE')]\n",
    "peek_df = df[df.ListingKey.isin(dup_listing_idx)]\n",
    "peek_df[['CreditGrade', 'ProsperRating', 'ProsperScore', 'ProsperRatingGrade', 'ProsperScoreRange']].head(20)"
   ]
  },
  {
   "cell_type": "code",
   "execution_count": null,
   "metadata": {},
   "outputs": [],
   "source": [
    "plt.figure(figsize=(10,8))\n",
    "sb.lineplot(data=df, x='ProsperRating', y='ProsperScore')\n",
    "plt.title('Correlation between ProsperRating and ProsperScore (with ProsperScore corrections)');"
   ]
  },
  {
   "cell_type": "markdown",
   "metadata": {},
   "source": [
    "### Notes:\n",
    "Again this is showing the same lineplot but with ProsperScore corrections. The visuals should not have changed since I am using `ProsperRating` to correct `ProsperScore`."
   ]
  },
  {
   "cell_type": "code",
   "execution_count": null,
   "metadata": {},
   "outputs": [],
   "source": [
    "sb.lmplot(data=df.sample(10000), x='ProsperRating', y='BorrowerRate', x_jitter=.05)\n",
    "#sb.pairplot(df, kind='reg', plot_kws={'line_kws':{'color':'red'}, 'scatter_kws': {'alpha': 0.1}})"
   ]
  },
  {
   "cell_type": "markdown",
   "metadata": {},
   "source": [
    "### Notes:\n",
    "\n",
    "I have seen this plot already but as regplot. However, this `lmplot` is computationally expensive even with a fraction of the data."
   ]
  },
  {
   "cell_type": "code",
   "execution_count": null,
   "metadata": {},
   "outputs": [],
   "source": [
    "t_cols = list(df.columns)\n",
    "print(t_cols)"
   ]
  },
  {
   "cell_type": "code",
   "execution_count": null,
   "metadata": {},
   "outputs": [],
   "source": [
    "t_cols = ['BorrowerRate', 'LoanOriginalAmount', 'CreditScoreRangeUpper', 'ProsperRatingGrade']"
   ]
  },
  {
   "cell_type": "code",
   "execution_count": null,
   "metadata": {},
   "outputs": [],
   "source": [
    "sb.pairplot(df[t_cols].sample(10000), kind='reg', plot_kws={'line_kws':{'color':'red'}, 'scatter_kws': {'alpha': 0.1}})"
   ]
  },
  {
   "cell_type": "markdown",
   "metadata": {},
   "source": [
    "### Notes:\n",
    "\n",
    "- `ProsperRatingGrade` is positively correlated with `CreditScoreRangeUpper`.\n",
    "- `LoanOriginalAmount` is positively with `CreditScoreRangeUpper`\n",
    "- This provides information on which relationships to focus on."
   ]
  },
  {
   "cell_type": "code",
   "execution_count": null,
   "metadata": {},
   "outputs": [],
   "source": [
    "sb.catplot(data=df, x='ProsperRatingGrade', y='BorrowerRate', color=pleasant, alpha=0.1)"
   ]
  },
  {
   "cell_type": "markdown",
   "metadata": {},
   "source": [
    "### Notes:\n",
    "\n",
    "As I mentioned before it didn't make a difference in the big picture.\n",
    "\n",
    "I drew the graph first with the line and then a form of a scatterplot indicating density of points. It is clear to me now that `ProsperRating` is ordinal. The higher the `ProsperRating` the lower the BorrowerRate."
   ]
  },
  {
   "cell_type": "code",
   "execution_count": null,
   "metadata": {},
   "outputs": [],
   "source": [
    "temp_df = df[['BorrowerRate', 'ProsperRatingGrade']]\n",
    "temp_df.isnull().sum()"
   ]
  },
  {
   "cell_type": "code",
   "execution_count": null,
   "metadata": {},
   "outputs": [],
   "source": [
    "temp_df = temp_df.dropna()\n",
    "temp_df.isnull().sum()"
   ]
  },
  {
   "cell_type": "code",
   "execution_count": null,
   "metadata": {},
   "outputs": [],
   "source": [
    "temp_df.shape"
   ]
  },
  {
   "cell_type": "code",
   "execution_count": null,
   "metadata": {},
   "outputs": [],
   "source": [
    "sb.lmplot(data=temp_df.sample(10000), x='ProsperRatingGrade', y='BorrowerRate', x_jitter=.05, line_kws={'color':'red'})\n",
    "plt.title('Borrower Rate against Prosper Rating');"
   ]
  },
  {
   "cell_type": "markdown",
   "metadata": {},
   "source": [
    "### Notes:\n",
    "\n",
    "I used a red line to show better the trend between `ProsperRatingGrade` and `BorrowerRate`."
   ]
  },
  {
   "cell_type": "code",
   "execution_count": null,
   "metadata": {},
   "outputs": [],
   "source": [
    "sb.catplot(data=df, x='EmploymentStatus', y='EmploymentStatusDuration', color=pleasant, alpha=0.1)\n",
    "plt.xticks(rotation=45, horizontalalignment='right')\n",
    "plt.title('Employment Duration vs Status');"
   ]
  },
  {
   "cell_type": "markdown",
   "metadata": {},
   "source": [
    "### Notes:\n",
    "I thought there might be a relationship between emploment status and duration. I don't see much."
   ]
  },
  {
   "cell_type": "code",
   "execution_count": null,
   "metadata": {},
   "outputs": [],
   "source": [
    "sb.catplot(data=df, x='EmploymentStatus', y='BorrowerRate', color=pleasant, alpha=0.1)\n",
    "plt.xticks(rotation=45, horizontalalignment='right');"
   ]
  },
  {
   "cell_type": "markdown",
   "metadata": {},
   "source": [
    "### Notes:\n",
    "\n",
    "With the relationship more dense in the first 5 statuses, Prosper had a preference to lend to the employed. However, the rates varied just as widely regardless of employment status."
   ]
  },
  {
   "cell_type": "code",
   "execution_count": null,
   "metadata": {},
   "outputs": [],
   "source": [
    "plt.figure(figsize=(10,8))\n",
    "sb.boxplot(data=df, x='EmploymentStatus', y='BorrowerRate', color=pleasant)\n",
    "plt.xticks(rotation=45, horizontalalignment='right')\n",
    "plt.title('Borrower rates among employment statuses');"
   ]
  },
  {
   "cell_type": "markdown",
   "metadata": {},
   "source": [
    "### Notes:\n",
    "\n",
    "As mentioned above, the rates did vary regardless of employment status. But what is clear here is that the employed enjoyed lower rates on average."
   ]
  },
  {
   "cell_type": "code",
   "execution_count": null,
   "metadata": {},
   "outputs": [],
   "source": [
    "df.EmploymentStatus.value_counts()"
   ]
  },
  {
   "cell_type": "markdown",
   "metadata": {},
   "source": [
    "### Notes:\n",
    "\n",
    "there's a definite range of rates given to the first 5 statuses."
   ]
  },
  {
   "cell_type": "code",
   "execution_count": null,
   "metadata": {},
   "outputs": [],
   "source": [
    "sb.heatmap(df.corr(), fmt='.2f', annot=True, cmap='RdBu_r')"
   ]
  },
  {
   "cell_type": "markdown",
   "metadata": {},
   "source": [
    "### Notes:\n",
    "\n",
    "- Mutual exclusivity of `CreditGrade` and `ProsperRating` is quite evident.\n",
    "- High correlation between `ProsperRating` and `CreditGrade` hints at independence.\n",
    "- Low correlation between other features need to be examined more closely."
   ]
  },
  {
   "cell_type": "code",
   "execution_count": null,
   "metadata": {},
   "outputs": [],
   "source": [
    "plt.figure(figsize=(10,8))\n",
    "sb.lmplot(data=df.sample(frac=.25), x='LoanOriginalAmount', y='BorrowerRate', line_kws={'color': 'red'});"
   ]
  },
  {
   "cell_type": "markdown",
   "metadata": {},
   "source": [
    "### Notes:\n",
    "- There seems to be a general lowering of rates as `LoanOriginalAmount` increases.\n",
    "- Most loans are below 15k.\n",
    "- After 15k, there are dense periods at increment of 5000."
   ]
  },
  {
   "cell_type": "code",
   "execution_count": null,
   "metadata": {},
   "outputs": [],
   "source": [
    "plt.figure(figsize=(10,8))\n",
    "sb.lmplot(data=df.sample(frac=.25), x='CreditScoreRangeUpper', y='BorrowerRate', line_kws={'color': 'red'});"
   ]
  },
  {
   "cell_type": "markdown",
   "metadata": {},
   "source": [
    "### Notes:\n",
    "- The trend is that the higher the credit score, the lower the `BorrowerRate`.\n",
    "- Nearly all borrowers had credit scores above 400.\n",
    "- This could be better plotted by limiting the x axis."
   ]
  },
  {
   "cell_type": "code",
   "execution_count": null,
   "metadata": {},
   "outputs": [],
   "source": [
    "df.CreditScoreRangeUpper.isnull().sum()"
   ]
  },
  {
   "cell_type": "code",
   "execution_count": null,
   "metadata": {},
   "outputs": [],
   "source": [
    "df.CreditScoreRangeUpper.describe()"
   ]
  },
  {
   "cell_type": "markdown",
   "metadata": {},
   "source": [
    "#### Notes:\n",
    "\n",
    "- With those that had a credit scores, it looks that the higher the credit score the better the BorrowerRate.\n",
    "- A minimum of 19 in Credit Score is probably an clerical error.\n",
    "- Prosper only lent money to people with credit scores above 400."
   ]
  },
  {
   "cell_type": "code",
   "execution_count": null,
   "metadata": {},
   "outputs": [],
   "source": [
    "# computationally expensive using sample\n",
    "\n",
    "sb.lmplot(x=\"BorrowerRate\", y=\"IsBorrowerHomeowner\", data=df.sample(10000), logistic=True, y_jitter=.03);"
   ]
  },
  {
   "cell_type": "markdown",
   "metadata": {},
   "source": [
    "### Notes:\n",
    "\n",
    "It looks as if they disbursed funds regardless of homeownership. However, it benefits that you are a homeowner in that the BorrowerRate is lower if you are a homeowner"
   ]
  },
  {
   "cell_type": "code",
   "execution_count": null,
   "metadata": {},
   "outputs": [],
   "source": [
    "plt.figure(figsize=(10,8))\n",
    "sb.lmplot(data=df.sample(frac=.25), x='CurrentCreditLines', y='BorrowerRate', line_kws={'color': 'red'});"
   ]
  },
  {
   "cell_type": "markdown",
   "metadata": {},
   "source": [
    "### Notes:\n",
    "- Most borrowers had credit lines below 25.\n",
    "- The trend is that the more credit line a borrower had, the lower the `BorrowerRate`."
   ]
  },
  {
   "cell_type": "code",
   "execution_count": null,
   "metadata": {},
   "outputs": [],
   "source": [
    "# ProsperRatingGrade vs homeownership\n",
    "plt.figure(figsize =(10,8))\n",
    "sb.countplot(data=df, x='ProsperRatingGrade', hue='IsBorrowerHomeowner');"
   ]
  },
  {
   "cell_type": "markdown",
   "metadata": {},
   "source": [
    "### Notes:\n",
    "\n",
    "Homeownership seemed to matter less as the ProsperRatingGrade got higher. Prosper Rating seemed to matter more"
   ]
  },
  {
   "cell_type": "code",
   "execution_count": null,
   "metadata": {},
   "outputs": [],
   "source": [
    "plt.figure(figsize=(10,8))\n",
    "sb.boxplot(data=df, x='CreditGrade', y='BorrowerRate', color=pleasant)\n",
    "plt.xticks(rotation=45, horizontalalignment='right')\n",
    "plt.title('BorrowerRate against CreditGrade');"
   ]
  },
  {
   "cell_type": "markdown",
   "metadata": {},
   "source": [
    "### Notes:\n",
    "\n",
    "Here is another look at `CreditGrade` vs `BorrowerRate`. The mean and the quartiles of `BorrowerRate` trend down as rating increases."
   ]
  },
  {
   "cell_type": "markdown",
   "metadata": {},
   "source": [
    "### Talk about some of the relationships you observed in this part of the investigation. How did the feature(s) of interest vary with other features in the dataset?\n",
    "\n",
    "- BorrowerRate correlates with CreditScoreRangeUpper: the better the score the lower the rate.\n",
    "- BorrowerRate correlates with ProsperRating: the higher the rating the lower the rate.\n",
    "- BorrowerRate slightly correlates with loan amount: the higher the amount the lower the rate. that is interesting.\n",
    "- It looks as if they disbursed funds regardless of homeownership. However, it benefits that you are a homeowner in that the BorrowerRate is lower if you are a homeowner.\n",
    "- Most borrowers have fewer than 25 credit lines. But the tendency is that the more credit line you have, the lower the BorrowerRate.\n",
    "\n",
    "### Did you observe any interesting relationships between the other features (not the main feature(s) of interest)?\n",
    "\n",
    "- CreditScoreRangeUpper is positively correlated with LoanOriginalAmount.\n",
    "- Homeownership seemed to matter less as the ProsperRatingGrade got higher. Prosper Rating seemed to matter more."
   ]
  },
  {
   "cell_type": "markdown",
   "metadata": {},
   "source": [
    "## Multivariate Exploration\n",
    "\n",
    "> Create plots of three or more variables to investigate your data even\n",
    "further. Make sure that your investigations are justified, and follow from\n",
    "your work in the previous sections."
   ]
  },
  {
   "cell_type": "code",
   "execution_count": null,
   "metadata": {},
   "outputs": [],
   "source": [
    "g = sb.FacetGrid(data=df, height=6, col='ProsperRatingGrade', col_wrap=2)\n",
    "g.map(sb.regplot, 'LoanOriginalAmount', 'BorrowerRate', x_jitter=0.04, scatter_kws={'alpha':0.1});\n",
    "g.add_legend()\n",
    "g.fig.suptitle('Relationship between Loan Amount and BorrowerRate broken down by Prosper Rating Grade');"
   ]
  },
  {
   "cell_type": "markdown",
   "metadata": {},
   "source": [
    "### Notes:\n",
    "\n",
    "It looks that the higher Prosper Rating Grade have the lowest range of borrower rates."
   ]
  },
  {
   "cell_type": "code",
   "execution_count": null,
   "metadata": {},
   "outputs": [],
   "source": [
    "g = sb.FacetGrid(data=df, height=6, col='ProsperRatingGrade', col_wrap=4)\n",
    "g.map(sb.regplot, 'CreditScoreRangeUpper', 'BorrowerRate', x_jitter=0.04, scatter_kws={'alpha':0.1}, line_kws={'color':'red'});\n",
    "g.add_legend()\n",
    "g.fig.suptitle('Relationship between Credit Score and BorrowerRate broken down by Prosper Rating Grade');"
   ]
  },
  {
   "cell_type": "markdown",
   "metadata": {},
   "source": [
    "## Notes:\n",
    "\n",
    "Credit Score made more of a difference in the big picture with borrowers with Prosper Rating grade of 4 or below."
   ]
  },
  {
   "cell_type": "code",
   "execution_count": null,
   "metadata": {},
   "outputs": [],
   "source": [
    "g = sb.FacetGrid(data=df, height=6, col='ProsperRatingGrade', col_wrap=4)\n",
    "g.map(sb.regplot, 'AvailableBankcardCredit', 'BorrowerRate', x_jitter=0.04, scatter_kws={'alpha':0.1});\n",
    "g.add_legend()\n",
    "g.fig.suptitle('Relationship between Available Bank Credit and BorrowerRate broken down by Prosper Rating Grade');"
   ]
  },
  {
   "cell_type": "markdown",
   "metadata": {},
   "source": [
    "### Notes:\n",
    "\n",
    "Interestingly, people with Prosper Rating of 5 or higher had a negatively correlationship between their rate and available bank credit. With those with rating of 4 or below, the relationship between rate and available credit is positively correlated. The higher available bank credit the lower the borrower rate. But if the borrower's rating is low, the higher the borrower rate is as bank credit increases. Again this might have the effect of other features which are causing the rating to lower."
   ]
  },
  {
   "cell_type": "code",
   "execution_count": null,
   "metadata": {},
   "outputs": [],
   "source": [
    "# see the relationship of credit scores broken down # currentCreditLines CurrentDelinquencies\n",
    "g = sb.FacetGrid(data=df, height=6, col='ProsperRatingGrade', col_wrap=4)\n",
    "g.map(sb.regplot, 'CurrentDelinquencies', 'BorrowerRate', x_jitter=0.04, scatter_kws={'alpha':0.1}, line_kws={'color':'red'});\n",
    "g.add_legend()\n",
    "g.fig.suptitle('Relationship between Available Bank Credit and BorrowerRate broken down by Prosper Rating Grade');"
   ]
  },
  {
   "cell_type": "markdown",
   "metadata": {},
   "source": [
    "### Notes:\n",
    "CurrentDelinquiencies seem to have an effect on BorrowerRate. Generally, the more deliquencies the higher the BorrowerRate. Interestingly, at low grade, the BorrowerRate seems to go lower. I think this is just the effect of having low ProsperRating."
   ]
  },
  {
   "cell_type": "code",
   "execution_count": null,
   "metadata": {},
   "outputs": [],
   "source": [
    "g = sb.FacetGrid(data=df, height=6, col='ProsperRatingGrade', col_wrap=4)\n",
    "g.map(sb.regplot, 'CurrentCreditLines', 'BorrowerRate', x_jitter=0.04, scatter_kws={'alpha':0.1}, line_kws={'color':'red'});\n",
    "g.add_legend()\n",
    "g.fig.suptitle('Relationship between number of credit lines and BorrowerRate broken down by Prosper Rating Grade');"
   ]
  },
  {
   "cell_type": "markdown",
   "metadata": {},
   "source": [
    "### Notes:\n",
    "\n",
    "Broken down by prosper rating, the trend between `BorrowerRate` and number of credit lines are generally flat. However, at a rating of **1**, the relationship between `BorrowerRate` and `CurrentCreditLines` is positive, i.e., at that low rating, the more credit lines the higher the rate. Interesting!"
   ]
  },
  {
   "cell_type": "code",
   "execution_count": null,
   "metadata": {},
   "outputs": [],
   "source": [
    "g = sb.FacetGrid(data=df, height=6, col='CreditGrade', col_wrap=4)\n",
    "g.map(sb.regplot, 'CreditScoreRangeUpper', 'BorrowerRate', x_jitter=0.04, scatter_kws={'alpha':0.1}, line_kws={'color':'red'});\n",
    "g.add_legend()\n",
    "g.fig.suptitle('Relationship between pre-2009 credit grade and BorrowerRate broken down by Grade');"
   ]
  },
  {
   "cell_type": "markdown",
   "metadata": {},
   "source": [
    "### Notes:\n",
    "This graph and the graph below are probably the most revealing during this whole investigation. This is `BorrowerRate` against credit scores broken down by each `CreditGrade`. This is where I discovered that `CreditGrade` is tied very closely to `CreditScoreRangeUpper`. Note the range of credit scores per grade."
   ]
  },
  {
   "cell_type": "code",
   "execution_count": null,
   "metadata": {},
   "outputs": [],
   "source": [
    "g = sb.FacetGrid(data=df, height=6, col='ProsperRating', col_wrap=4)\n",
    "g.map(sb.regplot, 'CreditScoreRangeUpper', 'BorrowerRate', x_jitter=0.04, scatter_kws={'alpha':0.1}, line_kws={'color':'red'});\n",
    "g.add_legend()\n",
    "g.fig.suptitle('Relationship between post-2009 Prosper Rating and BorrowerRate broken down by Grade');"
   ]
  },
  {
   "cell_type": "markdown",
   "metadata": {},
   "source": [
    "### Notes:\n",
    "\n",
    "This is extremely interesting. The pre-2009 CreditGrade is very closely tied to the CreditScoreRangeUpper. On the other hand, post-2009 was less dependent on Credit Score.\n",
    "\n",
    "This puts to question of combining CreditGrade and ProsperRating into one column.\n",
    "\n",
    "However, upon looking at range of BorrowerRate, the density are comparable.\n",
    "\n",
    "#### Rough visual assessment of range of BorrowerRate by Grade\n",
    "\n",
    "| Grade | CreditGrade | ProsperRating |\n",
    "|-------|-------------|---------------|\n",
    "| 0     | 0           | 0             |\n",
    "| 1     | .24 - .26   | .32           |\n",
    "| 2     | .22 - .32   | .28           |\n",
    "| 3     | .21         | .24 - .26     |\n",
    "| 4     | .16 and .18 | .18 - .22     |\n",
    "| 5     | .14         | .16           |\n",
    "| 6     | .1 - .15    | .12           |\n",
    "| 7     | .07 - .1    | .07           |\n"
   ]
  },
  {
   "cell_type": "code",
   "execution_count": null,
   "metadata": {},
   "outputs": [],
   "source": [
    "#fig, ax = plt.subplots(1, 2, figsize=(12, 10))\n",
    "#sb.boxplot(x='CreditGrade', y='BorrowerRate', data=df, ax=[1, 1])\n",
    "#sb.boxplot(x='ProsperRating', y='BorrowerRate', data=df, ax=[1, 2])"
   ]
  },
  {
   "cell_type": "code",
   "execution_count": null,
   "metadata": {},
   "outputs": [],
   "source": [
    "# create a boolean mask IsCG IsPR\n",
    "# create a column IsPR\n",
    "wdf = df.copy()"
   ]
  },
  {
   "cell_type": "code",
   "execution_count": null,
   "metadata": {},
   "outputs": [],
   "source": [
    "wdf['IsPR'] = np.where(wdf.ProsperRating.notnull(), 1, None) # column IsPR\n",
    "wdf['IsCG'] = np.where(wdf.CreditGrade.notnull(), 2, None) # column \n",
    "wdf['post2009'] = wdf['IsPR']"
   ]
  },
  {
   "cell_type": "code",
   "execution_count": null,
   "metadata": {},
   "outputs": [],
   "source": [
    "wdf.post2009.update(wdf['IsCG'])\n",
    "wdf.post2009.isnull().sum()"
   ]
  },
  {
   "cell_type": "code",
   "execution_count": null,
   "metadata": {},
   "outputs": [],
   "source": [
    "wdf[['IsPR', 'ProsperRating', 'IsCG', 'CreditGrade', 'post2009']].sample(1300).head(20)"
   ]
  },
  {
   "cell_type": "code",
   "execution_count": null,
   "metadata": {},
   "outputs": [],
   "source": [
    "wdf = wdf.dropna(subset=['post2009'])\n",
    "wdf.isnull().sum()"
   ]
  },
  {
   "cell_type": "code",
   "execution_count": null,
   "metadata": {},
   "outputs": [],
   "source": [
    "wdf.post2009.replace(2, 0, inplace=True)"
   ]
  },
  {
   "cell_type": "code",
   "execution_count": null,
   "metadata": {},
   "outputs": [],
   "source": [
    "wdf[['IsPR', 'ProsperRating', 'IsCG', 'CreditGrade', 'post2009']].sample(1300).head(20)"
   ]
  },
  {
   "cell_type": "code",
   "execution_count": null,
   "metadata": {},
   "outputs": [],
   "source": [
    "plt.figure(figsize=(10,8))\n",
    "sb.boxplot(x='ProsperRatingGrade', y='BorrowerRate', hue='post2009', data=wdf)\n",
    "plt.title('Does it work');"
   ]
  },
  {
   "cell_type": "markdown",
   "metadata": {},
   "source": [
    "### Notes:\n",
    "- This puts the 2 important discoveries I had about `BorrowerRate` against both `CreditGrade` (pre-2009) and `ProsperRating` (post-200\n",
    "- The quartiles and mean of `BorrowerRate` trend downward as rating increases.\n",
    "- However, post-2009 the rating was more determinant of the `BorrowerRate`.\n",
    "- Pre-2009, the rates varied more across ratings."
   ]
  },
  {
   "cell_type": "code",
   "execution_count": null,
   "metadata": {},
   "outputs": [],
   "source": [
    "plt.figure(figsize=(10,8))\n",
    "sb.boxplot(x='ProsperRatingGrade', y='CreditScoreRangeUpper', hue='post2009', data=wdf)\n",
    "plt.title('Does it work');"
   ]
  },
  {
   "cell_type": "markdown",
   "metadata": {},
   "source": [
    "### Notes:\n",
    "- Note that pre-2009, the credit scores against ratings are upward and non-overlapping.\n",
    "- Note that post-2009, the credit scores against ratings are overlapping.\n",
    "- I created a new column called post2009 indicating whether the ProsperRatingGrade is from ProsperRating (post-2009) or from CreditGrade (pre-2009).\n",
    "- I am trying to determine if the range of borrower rate by ProsperRatingGrade warranted my having combined them into one column."
   ]
  },
  {
   "cell_type": "markdown",
   "metadata": {},
   "source": [
    "### Talk about some of the relationships you observed in this part of the investigation. Were there features that strengthened each other in terms of looking at your feature(s) of interest?\n",
    "\n",
    "It is clear that not one factor determines the BorrowerRate or the ProsperRatingGrade.\n",
    "- CurrentDelinquiencies seem to have an effect on BorrowerRate. Generally, the more deliquencies the higher the BorrowerRate. Interestingly, at low grade, the BorrowerRate seems to go lower. I think this is just the effect of having low ProsperRating.\n",
    "- Interestingly, people with Prosper Rating of 5 or higher had a negatively correlationship between their rate and available bank credit. With those with rating of 4 or below, the relationship between rate and available credit is positively correlated. The higher available bank credit the lower the borrower rate. But if the borrower's rating is low, the higher the borrower rate is as bank credit increases. Again this might have the effect of other features which are causing the rating to lower.\n",
    "\n",
    "### Were there any interesting or surprising interactions between features?\n",
    "\n",
    "- This is extremely interesting. The pre-2009 CreditGrade is very closely tied to the CreditScoreRangeUpper. On the other hand, post-2009 was less dependent on Credit Score.\n",
    "- This puts to question of combining CreditGrade and ProsperRating into one column. However, upon looking at range of BorrowerRate, the density are comparable.\n",
    "- I think the CreditGrade could be scaled to match more of ProsperRating before merging but that is beyond the scope of this project\n",
    "- It is interesting to note, that features (other than ProsperRating) make more of a difference when the ProsperRating is low."
   ]
  },
  {
   "cell_type": "markdown",
   "metadata": {},
   "source": [
    "> At the end of your report, make sure that you export the notebook as an\n",
    "html file from the `File > Download as... > HTML` menu. Make sure you keep\n",
    "track of where the exported file goes, so you can put it in the same folder\n",
    "as this notebook for project submission. Also, make sure you remove all of\n",
    "the quote-formatted guide notes like this one before you finish your report!"
   ]
  },
  {
   "cell_type": "code",
   "execution_count": null,
   "metadata": {},
   "outputs": [],
   "source": []
  }
 ],
 "metadata": {
  "kernelspec": {
   "display_name": "Python 3",
   "language": "python",
   "name": "python3"
  },
  "language_info": {
   "codemirror_mode": {
    "name": "ipython",
    "version": 3
   },
   "file_extension": ".py",
   "mimetype": "text/x-python",
   "name": "python",
   "nbconvert_exporter": "python",
   "pygments_lexer": "ipython3",
   "version": "3.8.5"
  }
 },
 "nbformat": 4,
 "nbformat_minor": 4
}
